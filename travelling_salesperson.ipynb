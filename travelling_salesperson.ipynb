{
 "cells": [
  {
   "cell_type": "code",
   "execution_count": 700,
   "metadata": {},
   "outputs": [],
   "source": [
    "import csv\n",
    "#import pandas\n",
    "from random import shuffle, randint\n",
    "from math import sin, cos, sqrt, atan2, radians, factorial"
   ]
  },
  {
   "cell_type": "code",
   "execution_count": 657,
   "metadata": {},
   "outputs": [],
   "source": [
    "def transpose(A):\n",
    "    return list(map(list,zip(*A)))"
   ]
  },
  {
   "cell_type": "code",
   "execution_count": 664,
   "metadata": {},
   "outputs": [],
   "source": [
    "class graph:\n",
    "    def __init__(self, nodes=['United Kingdom','France','Germany','Italy','Spain','Egypt']):\n",
    "        self.nodes = nodes\n",
    "        self.roadmap = self.roadmap(self.nodes)\n",
    "        self.num_nodes = len(self.nodes)\n",
    "        self.min = nodes\n",
    "        self.min_dis = distance(points=self.roadmap)\n",
    "    def roadmap(self,nodes):\n",
    "        loc = []\n",
    "        with open('cities.csv') as csvfile:\n",
    "            spamreader = csv.reader(csvfile)\n",
    "            for row in spamreader:\n",
    "                if row[3] in nodes:\n",
    "                    loc.append([row[3],[float(row[1]),float(row[2])]])\n",
    "        #print(loc)\n",
    "        return loc\n",
    "\n",
    "    def distance(self,points=False,total=True):\n",
    "        dis_tot = 0\n",
    "        dis_list = []\n",
    "        if points == False:\n",
    "            points = self.roadmap\n",
    "        # approximate radius of earth in km\n",
    "        R = 6373.0\n",
    "        nxt_points = points[1:] + points[0:]\n",
    "        for p1,p2 in zip(points,nxt_points):\n",
    "            lat1 = radians(p1[1][0])\n",
    "            lon1 = radians(p1[1][1])\n",
    "            lat2 = radians(p2[1][0])\n",
    "            lon2 = radians(p2[1][1])\n",
    "\n",
    "            dlon = lon2 - lon1\n",
    "            dlat = lat2 - lat1\n",
    "\n",
    "            a = sin(dlat / 2)**2 + cos(lat1) * cos(lat2) * sin(dlon / 2)**2\n",
    "            c = 2 * atan2(sqrt(a), sqrt(1 - a))\n",
    "\n",
    "            distance = R * c\n",
    "            if total:\n",
    "                dis_tot += distance\n",
    "            else:\n",
    "                dis_list.append([f'{p1[0]} -> {p2[0]}',distance])\n",
    "        if total:\n",
    "            return dis_tot\n",
    "        else:\n",
    "            return dis_list\n",
    "    def new_cyc(self):\n",
    "        nodes = self.roadmap\n",
    "        pem = list(range(1,len(nodes)))\n",
    "        shuffle(pem)\n",
    "        new_path = [nodes[0]]\n",
    "        for j in pem:\n",
    "            #print(nodes[i],j)\n",
    "            new_path.append(nodes[j])\n",
    "        return new_path\n",
    "    def minimise(self): \n",
    "        thresh = self.min_dis\n",
    "        dis = thresh + 1\n",
    "        #max_count = int(factorial(self.num_nodes-1)*0.80)\n",
    "        count = 1        \n",
    "        ###Stop Conditions\n",
    "        ##Stop if count is greater than maximum\n",
    "        #(count < max_count) and (dis > thresh)\n",
    "        ##Stop if more than 3 repeats\n",
    "        #count > 3\n",
    "        \n",
    "        while (count < 5):\n",
    "            new = self.new_cyc()\n",
    "           #print(len(new))\n",
    "            dis = self.distance(new)\n",
    "            if dis < thresh:\n",
    "                mini = transpose(new)[0]\n",
    "                thresh = dis\n",
    "            elif dis == thresh:\n",
    "                count += 1\n",
    "                \n",
    "            #print(f'Threshold: {thresh}\\n current: {dis}\\n {count}')\n",
    "            \n",
    "        if dis < self.min_dis:\n",
    "            self.min = mini\n",
    "            self.min_dis = thresh\n",
    "            print(f'New min found\\n path: {self.min}\\n distance: {dis:.0f} km')\n",
    "        else:\n",
    "            print(f'Shorter path not found\\n min path still: {self.min}\\n distance: {self.min_dis:.0f} km')"
   ]
  },
  {
   "cell_type": "code",
   "execution_count": 699,
   "metadata": {
    "scrolled": true
   },
   "outputs": [
    {
     "name": "stdout",
     "output_type": "stream",
     "text": [
      "Initial path: ['United Kingdom', 'France', 'Germany', 'Italy', 'Spain', 'Egypt']\n",
      "New min found\n",
      " path: ['Germany', 'Italy', 'Egypt', 'Spain', 'France', 'United Kingdom']\n",
      " distance: 9842 km\n"
     ]
    }
   ],
   "source": [
    "def main():\n",
    "    \n",
    "    g = graph()\n",
    "    print(f'Initial path: {g.nodes}')\n",
    "    g.minimise()\n",
    "if __name__ == '__main__':\n",
    "    main()"
   ]
  }
 ],
 "metadata": {
  "kernelspec": {
   "display_name": "Python 3",
   "language": "python",
   "name": "python3"
  },
  "language_info": {
   "codemirror_mode": {
    "name": "ipython",
    "version": 3
   },
   "file_extension": ".py",
   "mimetype": "text/x-python",
   "name": "python",
   "nbconvert_exporter": "python",
   "pygments_lexer": "ipython3",
   "version": "3.7.3"
  }
 },
 "nbformat": 4,
 "nbformat_minor": 2
}
